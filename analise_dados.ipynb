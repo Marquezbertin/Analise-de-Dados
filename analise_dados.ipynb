{
  "nbformat": 4,
  "nbformat_minor": 0,
  "metadata": {
    "colab": {
      "provenance": [],
      "authorship_tag": "ABX9TyMMdpfRR12ikUkgfn80ZOBr",
      "include_colab_link": true
    },
    "kernelspec": {
      "name": "python3",
      "display_name": "Python 3"
    },
    "language_info": {
      "name": "python"
    }
  },
  "cells": [
    {
      "cell_type": "markdown",
      "metadata": {
        "id": "view-in-github",
        "colab_type": "text"
      },
      "source": [
        "<a href=\"https://colab.research.google.com/github/Marquezbertin/Analise-de-Dados/blob/main/analise_dados.ipynb\" target=\"_parent\"><img src=\"https://colab.research.google.com/assets/colab-badge.svg\" alt=\"Open In Colab\"/></a>"
      ]
    },
    {
      "cell_type": "markdown",
      "source": [
        "#Python in data analysis."
      ],
      "metadata": {
        "id": "9cTnbM_ukgfB"
      }
    },
    {
      "cell_type": "code",
      "source": [
        "# importing the pandas library\n",
        "import pandas as pd\n"
      ],
      "metadata": {
        "id": "gNoz7HsblLkY"
      },
      "execution_count": 44,
      "outputs": []
    },
    {
      "cell_type": "code",
      "source": [
        "# Import dataset and ignore errors if there are any in the file t also formats the correct display of columns and rows (;)\n",
        "df = pd.read_csv(\"/content/Gapminder.csv\", error_bad_lines=False, sep=\";\")"
      ],
      "metadata": {
        "id": "rj-Z9SYOnMr_"
      },
      "execution_count": null,
      "outputs": []
    },
    {
      "cell_type": "code",
      "source": [
        "# Viewing the first 5 lines\n",
        "df.head()"
      ],
      "metadata": {
        "id": "9X7hVtPbpzkH"
      },
      "execution_count": null,
      "outputs": []
    },
    {
      "cell_type": "code",
      "source": [
        "# Renames (translates) column headings\n",
        "df = df.rename(columns={\"country\" : \"Pais\", \"continent\" : \"Continente\", \"year\" : \"Ano\", \"lifeExp\" : \"Expectativa de Vida\",\"pop\" : \"Pop Total\", \"gdpPercap\" : \"PIB\"})"
      ],
      "metadata": {
        "id": "nh1hQt1DxWIk"
      },
      "execution_count": null,
      "outputs": []
    },
    {
      "cell_type": "code",
      "source": [
        "# Displays the first 10 rows of the dataset\n",
        "df.head(10)"
      ],
      "metadata": {
        "id": "hoJQFJym2Bbj"
      },
      "execution_count": null,
      "outputs": []
    },
    {
      "cell_type": "code",
      "source": [
        "# Number of columns and rows in the dataset\n",
        "df.shape"
      ],
      "metadata": {
        "id": "b0e5vy2G5Qzp"
      },
      "execution_count": null,
      "outputs": []
    },
    {
      "cell_type": "code",
      "source": [
        "# What are the columns of this dataset\n",
        "df.columns"
      ],
      "metadata": {
        "colab": {
          "base_uri": "https://localhost:8080/"
        },
        "id": "XRO4pf0V-YwX",
        "outputId": "656bf709-a67f-4a9b-a82d-a001ca77c041"
      },
      "execution_count": null,
      "outputs": [
        {
          "output_type": "execute_result",
          "data": {
            "text/plain": [
              "Index(['Pais', 'Continente', 'Ano', 'Expectativa de Vida', 'Pop Total', 'PIB'], dtype='object')"
            ]
          },
          "metadata": {},
          "execution_count": 38
        }
      ]
    },
    {
      "cell_type": "code",
      "source": [
        "# What are the data types of the dataset\n",
        "df.dtypes"
      ],
      "metadata": {
        "id": "QKMex5Pw-jUH"
      },
      "execution_count": null,
      "outputs": []
    },
    {
      "cell_type": "code",
      "source": [
        "#View the last rows of the dataset\n",
        "df.tail()"
      ],
      "metadata": {
        "id": "DGYROz25_i83"
      },
      "execution_count": null,
      "outputs": []
    },
    {
      "cell_type": "code",
      "source": [
        "# Describe returns statistical data from the dataset.\n",
        "df.describe()"
      ],
      "metadata": {
        "id": "ENEvExprAmjG"
      },
      "execution_count": null,
      "outputs": []
    },
    {
      "cell_type": "markdown",
      "source": [],
      "metadata": {
        "id": "PXxCcqSHpbK2"
      }
    }
  ]
}